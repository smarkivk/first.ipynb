{
  "nbformat": 4,
  "nbformat_minor": 0,
  "metadata": {
    "colab": {
      "name": "Copy of first.ipynb",
      "provenance": [],
      "include_colab_link": true
    },
    "kernelspec": {
      "name": "python3",
      "display_name": "Python 3"
    },
    "language_info": {
      "name": "python"
    }
  },
  "cells": [
    {
      "cell_type": "markdown",
      "metadata": {
        "id": "view-in-github",
        "colab_type": "text"
      },
      "source": [
        "<a href=\"https://colab.research.google.com/github/smarkivk/first.ipynb/blob/main/Copy_of_first.ipynb\" target=\"_parent\"><img src=\"https://colab.research.google.com/assets/colab-badge.svg\" alt=\"Open In Colab\"/></a>"
      ]
    },
    {
      "cell_type": "code",
      "metadata": {
        "id": "UVWSH-Moykrm"
      },
      "source": [
        "products = {\n",
        "    1001 : {\"name\":\"Pepsi Can\",               \"price\":153,  \"quan\":50},\n",
        "    1002 : {\"name\":\"Tata Salt\",               \"price\":20,   \"quan\":130},\n",
        "    1003 : {\"name\":\"Tata Tea Gold\",           \"price\":48,   \"quan\":145},\n",
        "    1004 : {\"name\":\"Turmeric Powder\",         \"price\":52,   \"quan\":122},\n",
        "    1005 : {\"name\":\"Quaker Oats\",             \"price\":285,  \"quan\":30},\n",
        "    1006 : {\"name\":\"Saffola Active\",          \"price\":207,  \"quan\":58},\n",
        "    1007 : {\"name\":\"Kitkat Desert\",           \"price\":55,   \"quan\":59},\n",
        "    1008 : {\"name\":\"Dark Fantasy Choco Fills\",\"price\":90,   \"quan\":90},\n",
        "    1009 : {\"name\":\"Candyman Fantasy\",        \"price\":80,   \"quan\":95},\n",
        "    1010 : {\"name\":\"Lotte Choco Pie\",         \"price\":110,  \"quan\":95},\n",
        "    1011 : {\"name\":\"Britania Chocolate cake\", \"price\":120,  \"quan\":100},\n",
        "    1012 : {\"name\":\"Pillsbury cookes cake\",   \"price\":90,   \"quan\":200},\n",
        "    1013 : {\"name\":\"Kraft Oreo Soft Cake\",    \"price\":249,  \"quan\":120},\n",
        "    1014 : {\"name\":\"Mom's Magic Cashew\",      \"price\":80,   \"quan\":180},\n",
        "    1015 : {\"name\":\"Cadbury Oreo chacolate\",  \"price\":60,   \"quan\":185},\n",
        "    1016 : {\"name\":\"Betty Croker Pancake\",    \"price\":346,  \"quan\":190},\n",
        "    1017 : {\"name\":\"Parle G Original\",        \"price\":67,   \"quan\":140},\n",
        "    1018 : {\"name\":\"Lays Potato Chips\",       \"price\":30,   \"quan\":450},\n",
        "    1019 : {\"name\":\"Bingo! Mad Angle\",        \"price\":25,   \"quan\":440},\n",
        "    1020 : {\"name\":\"Kellogg's pringles\",      \"price\":85,   \"quan\":400},\n",
        "    1021 : {\"name\":\"Dorito's Nacho Chips\",    \"price\":90,   \"quan\":360},\n",
        "    1022 : {\"name\":\"Thums Up Soft Drink\",     \"price\":40,   \"quan\":60},\n",
        "    1023 : {\"name\":\"Svami Soda Water\",        \"price\":55,   \"quan\":70},\n",
        "    1024 : {\"name\":\"Coca-Cola\",               \"price\":65,   \"quan\":60},\n",
        "    1025 : {\"name\":\"Sprite Lime Flavor\",      \"price\":89,   \"quan\":40},\n",
        "    1026 : {\"name\":\"Colgate Maxfresh\",        \"price\":215,  \"quan\":55},\n",
        "    1027 : {\"name\":\"Pepsodent Gum Care\",      \"price\":300,  \"quan\":150},\n",
        "    1028 : {\"name\":\"Dabur Amla Hair Oil\",     \"price\":247,  \"quan\":100},\n",
        "    1029 : {\"name\":\"Nivea Men Face Wash\",     \"price\":149,  \"quan\":98},\n",
        "    1030 : {\"name\":\"Himalaya Herbal Face wash\",\"price\":104, \"quan\":200},\n",
        "    1031 : {\"name\":\"Himalaya Baby Powder\",    \"price\":243,  \"quan\":150},\n",
        "    1032 : {\"name\":\"Nivea Talcum Powder\",     \"price\":199,  \"quan\":120},\n",
        "    1033 : {\"name\":\"Fogg Xtremo Scent\",       \"price\":299,  \"quan\":155},\n",
        "    1034 : {\"name\":\"Villain Perfume men\",     \"price\":555,  \"quan\":230},\n",
        "    1035 : {\"name\":\"Dairy Milk Silk\",         \"price\":475,  \"quan\":50}\n",
        "}"
      ],
      "execution_count": null,
      "outputs": []
    },
    {
      "cell_type": "code",
      "metadata": {
        "id": "lPtsXhTxcN60"
      },
      "source": [
        ""
      ],
      "execution_count": null,
      "outputs": []
    },
    {
      "cell_type": "code",
      "metadata": {
        "id": "-8td53ExaI-q"
      },
      "source": [
        ""
      ],
      "execution_count": null,
      "outputs": []
    },
    {
      "cell_type": "code",
      "metadata": {
        "id": "TwK9EWvVzpUZ"
      },
      "source": [
        "import json\n",
        "js = json.dumps(products)\n",
        "fd = open(\"products.json\",\"w\")\n",
        "fd.write(js)\n",
        "fd.close()"
      ],
      "execution_count": null,
      "outputs": []
    },
    {
      "cell_type": "markdown",
      "metadata": {
        "id": "MHqroDpi0Nmu"
      },
      "source": [
        "## READ DATA FROM JASON"
      ]
    },
    {
      "cell_type": "code",
      "metadata": {
        "colab": {
          "base_uri": "https://localhost:8080/"
        },
        "id": "mbK90paF0ScO",
        "outputId": "e4dcd3fc-e688-41f2-dd56-e3bfb9bed4bb"
      },
      "source": [
        "fd = open(\"products.json\",'r')\n",
        "\n",
        "r = fd.read()\n",
        "\n",
        "fd.close()\n",
        "products = json.loads(r)\n",
        "products"
      ],
      "execution_count": null,
      "outputs": [
        {
          "output_type": "execute_result",
          "data": {
            "text/plain": [
              "{'1001': {'name': 'Pepsi Can', 'price': 153, 'quan': 50},\n",
              " '1002': {'name': 'Tata Salt', 'price': 20, 'quan': 130},\n",
              " '1003': {'name': 'Tata Tea Gold', 'price': 48, 'quan': 145},\n",
              " '1004': {'name': 'Turmeric Powder', 'price': 52, 'quan': 122},\n",
              " '1005': {'name': 'Quaker Oats', 'price': 285, 'quan': 30},\n",
              " '1006': {'name': 'Saffola Active', 'price': 207, 'quan': 58},\n",
              " '1007': {'name': 'Kitkat Desert', 'price': 55, 'quan': 59},\n",
              " '1008': {'name': 'Dark Fantasy Choco Fills', 'price': 90, 'quan': 90},\n",
              " '1009': {'name': 'Candyman Fantasy', 'price': 80, 'quan': 95},\n",
              " '1010': {'name': 'Lotte Choco Pie', 'price': 110, 'quan': 95},\n",
              " '1011': {'name': 'Britania Chocolate cake', 'price': 120, 'quan': 100},\n",
              " '1012': {'name': 'Pillsbury cookes cake', 'price': 90, 'quan': 200},\n",
              " '1013': {'name': 'Kraft Oreo Soft Cake', 'price': 249, 'quan': 120},\n",
              " '1014': {'name': \"Mom's Magic Cashew\", 'price': 80, 'quan': 180},\n",
              " '1015': {'name': 'Cadbury Oreo chacolate', 'price': 60, 'quan': 185},\n",
              " '1016': {'name': 'Betty Croker Pancake', 'price': 346, 'quan': 190},\n",
              " '1017': {'name': 'Parle G Original', 'price': 67, 'quan': 140},\n",
              " '1018': {'name': 'Lays Potato Chips', 'price': 30, 'quan': 450},\n",
              " '1019': {'name': 'Bingo! Mad Angle', 'price': 25, 'quan': 440},\n",
              " '1020': {'name': \"Kellogg's pringles\", 'price': 85, 'quan': 400},\n",
              " '1021': {'name': \"Dorito's Nacho Chips\", 'price': 90, 'quan': 360},\n",
              " '1022': {'name': 'Thums Up Soft Drink', 'price': 40, 'quan': 60},\n",
              " '1023': {'name': 'Svami Soda Water', 'price': 55, 'quan': 70},\n",
              " '1024': {'name': 'Coca-Cola', 'price': 65, 'quan': 60},\n",
              " '1025': {'name': 'Sprite Lime Flavor', 'price': 89, 'quan': 40},\n",
              " '1026': {'name': 'Colgate Maxfresh', 'price': 215, 'quan': 55},\n",
              " '1027': {'name': 'Pepsodent Gum Care', 'price': 300, 'quan': 150},\n",
              " '1028': {'name': 'Dabur Amla Hair Oil', 'price': 247, 'quan': 100},\n",
              " '1029': {'name': 'Nivea Men Face Wash', 'price': 149, 'quan': 98},\n",
              " '1030': {'name': 'Himalaya Herbal Face wash', 'price': 104, 'quan': 200},\n",
              " '1031': {'name': 'Himalaya Baby Powder', 'price': 243, 'quan': 150},\n",
              " '1032': {'name': 'Nivea Talcum Powder', 'price': 199, 'quan': 120},\n",
              " '1033': {'name': 'Fogg Xtremo Scent', 'price': 299, 'quan': 155},\n",
              " '1034': {'name': 'Villain Perfume men', 'price': 555, 'quan': 230},\n",
              " '1035': {'name': 'Dairy Milk Silk', 'price': 475, 'quan': 50}}"
            ]
          },
          "metadata": {},
          "execution_count": 22
        }
      ]
    },
    {
      "cell_type": "markdown",
      "metadata": {
        "id": "Fpu55fgC0rTN"
      },
      "source": [
        "## ADDING NEW ITEMS"
      ]
    },
    {
      "cell_type": "code",
      "metadata": {
        "colab": {
          "base_uri": "https://localhost:8080/"
        },
        "id": "2JgFa9fo0vVA",
        "outputId": "c9d4625a-2b96-4fec-cc5f-eae47dd3ae97"
      },
      "source": [
        "prod_id = input(\"Enter the Product ID: \")\n",
        "name = input(\"Enter the Name of the Product: \")\n",
        "price = int(input(\"Enter the price per Item: \"))\n",
        "quan = int(input(\"Enter The Quantity of the Product you want to add: \"))\n",
        "products[prod_id] = {\"name\":name,\"price\":price,\"quan\":quan}\n",
        "\n",
        "js = json.dumps(products)\n",
        "\n",
        "fd = open(\"products.json\",\"w\")\n",
        "fd.write(js)\n",
        "fd.close()"
      ],
      "execution_count": null,
      "outputs": [
        {
          "name": "stdout",
          "output_type": "stream",
          "text": [
            "Enter the Product ID: 1036\n",
            "Enter the Name of the Product: Kurkure\n",
            "Enter the price per Item: 10\n",
            "Enter The Quantity of the Product you want to add: 5\n"
          ]
        }
      ]
    },
    {
      "cell_type": "markdown",
      "metadata": {
        "id": "-nxhA2M81hR9"
      },
      "source": [
        "## SELLING PRODUCTS"
      ]
    },
    {
      "cell_type": "code",
      "metadata": {
        "colab": {
          "base_uri": "https://localhost:8080/"
        },
        "id": "b_MWp_h_1lfb",
        "outputId": "c2c49f95-7b4d-4408-b036-f9d090c6522c"
      },
      "source": [
        "import json\n",
        "\n",
        "fd = open(\"products.json\",'r')\n",
        "r = fd.read()\n",
        "fd.close()\n",
        "\n",
        "products = json.loads(r)\n",
        "\n",
        "\n",
        "\n",
        "print(\"Welcome to shop\")\n",
        "\n",
        "\n",
        "ui_prod = input(\"Enter the product Id: \")\n",
        "ui_quan = int(input(\"Enter the quantity of the Product: \"))\n",
        "\n",
        "for i in products.keys():\n",
        "    while ui_prod == i:\n",
        "        if ui_quan <= products[i]['quan']:\n",
        "            print(\"****************************************\")\n",
        "            print(\"             product:\",products[ui_prod]['name'])\n",
        "            print(\"               price:\",products[ui_prod]['price'])\n",
        "            print(\"****************************************\")\n",
        "            print(\"----------BILLING DETAILS:---------- \")\n",
        "            print(\"Total Amount: \",products[ui_prod]['price']*ui_quan) \n",
        "            print(\"Enjoy Your Day\")\n",
        "            print(\"Thank You. Visit Again\")\n",
        "            print(\"**********************************\")\n",
        "            products[ui_prod][\"quan\"] = products[ui_prod][\"quan\"] - ui_quan\n",
        "        else:\n",
        "            print(\"Sorry. Stock of product you enterd is: \",products[ui_prod]['quan'],\"\\nPlease accept our apologies for this inconvenience\")\n",
        "        break\n",
        "if ui_prod not in products.keys():\n",
        "   print(\"Sorry. No product found for ID: \",ui_prod,\"\\Please enter valid product ID\")\n",
        "    \n",
        "    \n",
        "js = json.dumps(products)\n",
        "\n",
        "fd = open(\"products.json\",'w')\n",
        "fd.write(js)\n",
        "fd.close()\n",
        "\n",
        "## The sold items information is stored on sales.json\n",
        "fd = open(\"record.json\",'r')\n",
        "trans = fd.read()\n",
        "fd.close()\n",
        "\n",
        "record = json.loads(trans)\n",
        "num = len(sales)+1\n",
        "\n",
        "record[num] = {'prod':ui_prod, 'quan' : ui_quan, 'amount': products[ui_prod]['price'] * ui_quan}\n",
        "sale = json.dumps(record)\n",
        "\n",
        "fd = open(\"record.json\",'w')\n",
        "fd.write(sale)\n",
        "fd.close()"
      ],
      "execution_count": null,
      "outputs": [
        {
          "output_type": "stream",
          "name": "stdout",
          "text": [
            "Welcome to shop\n",
            "Enter the product Id: 1007\n",
            "Enter the quantity of the Product: 8\n",
            "****************************************\n",
            "             product: Kitkat Desert\n",
            "               price: 55\n",
            "****************************************\n",
            "----------BILLING DETAILS:---------- \n",
            "Total Amount:  440\n",
            "Enjoy Your Day\n",
            "Thank You. Visit Again\n",
            "**********************************\n"
          ]
        }
      ]
    },
    {
      "cell_type": "code",
      "metadata": {
        "colab": {
          "base_uri": "https://localhost:8080/"
        },
        "id": "zH1dXX0q1-gL",
        "outputId": "d0a8ed75-6466-46e5-96c7-6f21aea0d8e8"
      },
      "source": [
        "products"
      ],
      "execution_count": null,
      "outputs": [
        {
          "output_type": "execute_result",
          "data": {
            "text/plain": [
              "{'1001': {'name': 'Pepsi Can', 'price': 153, 'quan': 50},\n",
              " '1002': {'name': 'Tata Salt', 'price': 20, 'quan': 130},\n",
              " '1003': {'name': 'Tata Tea Gold', 'price': 48, 'quan': 145},\n",
              " '1004': {'name': 'Turmeric Powder', 'price': 52, 'quan': 122},\n",
              " '1005': {'name': 'Quaker Oats', 'price': 285, 'quan': 30},\n",
              " '1006': {'name': 'Saffola Active', 'price': 207, 'quan': 58},\n",
              " '1007': {'name': 'Kitkat Desert', 'price': 55, 'quan': 51},\n",
              " '1008': {'name': 'Dark Fantasy Choco Fills', 'price': 90, 'quan': 90},\n",
              " '1009': {'name': 'Candyman Fantasy', 'price': 80, 'quan': 95},\n",
              " '1010': {'name': 'Lotte Choco Pie', 'price': 110, 'quan': 95},\n",
              " '1011': {'name': 'Britania Chocolate cake', 'price': 120, 'quan': 100},\n",
              " '1012': {'name': 'Pillsbury cookes cake', 'price': 90, 'quan': 200},\n",
              " '1013': {'name': 'Kraft Oreo Soft Cake', 'price': 249, 'quan': 120},\n",
              " '1014': {'name': \"Mom's Magic Cashew\", 'price': 80, 'quan': 180},\n",
              " '1015': {'name': 'Cadbury Oreo chacolate', 'price': 60, 'quan': 185},\n",
              " '1016': {'name': 'Betty Croker Pancake', 'price': 346, 'quan': 190},\n",
              " '1017': {'name': 'Parle G Original', 'price': 67, 'quan': 140},\n",
              " '1018': {'name': 'Lays Potato Chips', 'price': 30, 'quan': 450},\n",
              " '1019': {'name': 'Bingo! Mad Angle', 'price': 25, 'quan': 440},\n",
              " '1020': {'name': \"Kellogg's pringles\", 'price': 85, 'quan': 400},\n",
              " '1021': {'name': \"Dorito's Nacho Chips\", 'price': 90, 'quan': 360},\n",
              " '1022': {'name': 'Thums Up Soft Drink', 'price': 40, 'quan': 60},\n",
              " '1023': {'name': 'Svami Soda Water', 'price': 55, 'quan': 70},\n",
              " '1024': {'name': 'Coca-Cola', 'price': 65, 'quan': 60},\n",
              " '1025': {'name': 'Sprite Lime Flavor', 'price': 89, 'quan': 40},\n",
              " '1026': {'name': 'Colgate Maxfresh', 'price': 215, 'quan': 55},\n",
              " '1027': {'name': 'Pepsodent Gum Care', 'price': 300, 'quan': 150},\n",
              " '1028': {'name': 'Dabur Amla Hair Oil', 'price': 247, 'quan': 100},\n",
              " '1029': {'name': 'Nivea Men Face Wash', 'price': 149, 'quan': 98},\n",
              " '1030': {'name': 'Himalaya Herbal Face wash', 'price': 104, 'quan': 200},\n",
              " '1031': {'name': 'Himalaya Baby Powder', 'price': 243, 'quan': 150},\n",
              " '1032': {'name': 'Nivea Talcum Powder', 'price': 199, 'quan': 120},\n",
              " '1033': {'name': 'Fogg Xtremo Scent', 'price': 299, 'quan': 155},\n",
              " '1034': {'name': 'Villain Perfume men', 'price': 555, 'quan': 230},\n",
              " '1035': {'name': 'Dairy Milk Silk', 'price': 475, 'quan': 50},\n",
              " '1036': {'name': 'Kurkure', 'price': 10, 'quan': 5}}"
            ]
          },
          "metadata": {},
          "execution_count": 26
        }
      ]
    },
    {
      "cell_type": "markdown",
      "metadata": {
        "id": "0wf7x2x22FA1"
      },
      "source": [
        "## UPDATED INVENTORY"
      ]
    },
    {
      "cell_type": "code",
      "metadata": {
        "id": "oWbazPh72JR0"
      },
      "source": [
        "record = {1 : {'prod':ui_prod, 'quan':ui_quan, 'amount':products[ui_prod]['price']*ui_quan}}\n",
        "sal = json.dumps(record)\n",
        "\n",
        "fd = open(\"record.json\",'w')\n",
        "fd.write(sal)\n",
        "fd.close()"
      ],
      "execution_count": null,
      "outputs": []
    }
  ]
}